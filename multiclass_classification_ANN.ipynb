{
 "cells": [
  {
   "cell_type": "markdown",
   "metadata": {},
   "source": [
    "# Multiclass Classification using ANN\n",
    "\n",
    "Implementatiton of multiclass classification with ANN using Pytorch on Iris dataset"
   ]
  },
  {
   "cell_type": "markdown",
   "metadata": {},
   "source": [
    "## Necessary Imports\n",
    "\n",
    "Import the following libraries\n",
    "\n",
    "* torch             - Pytorch library\n",
    "* torch.nn          - Pytorch's neural network class\n",
    "* torch.nn.functional - Pytorch's neural network functional API\n",
    "* numpy             - Library for performing linear algebra operations\n",
    "* matplotlib        - Library to visualise data and metrics\n",
    "* sklearn.metrics.train_test_split - To split dataset into training set and testing set\n",
    "* pandas - Library to read and perform operations with csv, excel sheets, etc."
   ]
  },
  {
   "cell_type": "code",
   "execution_count": 1,
   "metadata": {},
   "outputs": [],
   "source": [
    "import torch\n",
    "import torch.nn as nn\n",
    "import torch.nn.functional as F\n",
    "import numpy as np\n",
    "import pandas as pd\n",
    "import matplotlib.pyplot as plt\n",
    "from sklearn.model_selection import train_test_split"
   ]
  },
  {
   "cell_type": "markdown",
   "metadata": {},
   "source": [
    "Check if your Pytorch is GPU & CUDA enabled (only for NVIDIA GPUs)"
   ]
  },
  {
   "cell_type": "code",
   "execution_count": 2,
   "metadata": {},
   "outputs": [
    {
     "data": {
      "text/plain": [
       "True"
      ]
     },
     "execution_count": 2,
     "metadata": {},
     "output_type": "execute_result"
    }
   ],
   "source": [
    "torch.cuda.is_available()"
   ]
  },
  {
   "cell_type": "code",
   "execution_count": 3,
   "metadata": {},
   "outputs": [
    {
     "data": {
      "text/plain": [
       "'GeForce GTX 1050 Ti'"
      ]
     },
     "execution_count": 3,
     "metadata": {},
     "output_type": "execute_result"
    }
   ],
   "source": [
    "torch.cuda.get_device_name(torch.cuda.current_device())"
   ]
  },
  {
   "cell_type": "markdown",
   "metadata": {},
   "source": [
    "## Load the dataset\n",
    "\n",
    "Load teh iris.csv file using Pandas library and analyze the data by visualizing"
   ]
  },
  {
   "cell_type": "code",
   "execution_count": 4,
   "metadata": {},
   "outputs": [],
   "source": [
    "df = pd.read_csv(\"dataset/iris.csv\")"
   ]
  },
  {
   "cell_type": "code",
   "execution_count": 5,
   "metadata": {},
   "outputs": [
    {
     "data": {
      "text/html": [
       "<div>\n",
       "<style scoped>\n",
       "    .dataframe tbody tr th:only-of-type {\n",
       "        vertical-align: middle;\n",
       "    }\n",
       "\n",
       "    .dataframe tbody tr th {\n",
       "        vertical-align: top;\n",
       "    }\n",
       "\n",
       "    .dataframe thead th {\n",
       "        text-align: right;\n",
       "    }\n",
       "</style>\n",
       "<table border=\"1\" class=\"dataframe\">\n",
       "  <thead>\n",
       "    <tr style=\"text-align: right;\">\n",
       "      <th></th>\n",
       "      <th>sepal length (cm)</th>\n",
       "      <th>sepal width (cm)</th>\n",
       "      <th>petal length (cm)</th>\n",
       "      <th>petal width (cm)</th>\n",
       "      <th>target</th>\n",
       "    </tr>\n",
       "  </thead>\n",
       "  <tbody>\n",
       "    <tr>\n",
       "      <th>0</th>\n",
       "      <td>5.1</td>\n",
       "      <td>3.5</td>\n",
       "      <td>1.4</td>\n",
       "      <td>0.2</td>\n",
       "      <td>0.0</td>\n",
       "    </tr>\n",
       "    <tr>\n",
       "      <th>1</th>\n",
       "      <td>4.9</td>\n",
       "      <td>3.0</td>\n",
       "      <td>1.4</td>\n",
       "      <td>0.2</td>\n",
       "      <td>0.0</td>\n",
       "    </tr>\n",
       "    <tr>\n",
       "      <th>2</th>\n",
       "      <td>4.7</td>\n",
       "      <td>3.2</td>\n",
       "      <td>1.3</td>\n",
       "      <td>0.2</td>\n",
       "      <td>0.0</td>\n",
       "    </tr>\n",
       "    <tr>\n",
       "      <th>3</th>\n",
       "      <td>4.6</td>\n",
       "      <td>3.1</td>\n",
       "      <td>1.5</td>\n",
       "      <td>0.2</td>\n",
       "      <td>0.0</td>\n",
       "    </tr>\n",
       "    <tr>\n",
       "      <th>4</th>\n",
       "      <td>5.0</td>\n",
       "      <td>3.6</td>\n",
       "      <td>1.4</td>\n",
       "      <td>0.2</td>\n",
       "      <td>0.0</td>\n",
       "    </tr>\n",
       "  </tbody>\n",
       "</table>\n",
       "</div>"
      ],
      "text/plain": [
       "   sepal length (cm)  sepal width (cm)  petal length (cm)  petal width (cm)  \\\n",
       "0                5.1               3.5                1.4               0.2   \n",
       "1                4.9               3.0                1.4               0.2   \n",
       "2                4.7               3.2                1.3               0.2   \n",
       "3                4.6               3.1                1.5               0.2   \n",
       "4                5.0               3.6                1.4               0.2   \n",
       "\n",
       "   target  \n",
       "0     0.0  \n",
       "1     0.0  \n",
       "2     0.0  \n",
       "3     0.0  \n",
       "4     0.0  "
      ]
     },
     "execution_count": 5,
     "metadata": {},
     "output_type": "execute_result"
    }
   ],
   "source": [
    "df.head(5)"
   ]
  },
  {
   "cell_type": "code",
   "execution_count": 6,
   "metadata": {},
   "outputs": [
    {
     "data": {
      "image/png": "[encoded data removed]",
      "text/plain": [
       "<Figure size 720x576 with 4 Axes>"
      ]
     },
     "metadata": {
      "needs_background": "light"
     },
     "output_type": "display_data"
    }
   ],
   "source": [
    "fig, axes = plt.subplots(nrows=2, ncols=2, figsize=(10,8))\n",
    "fig.tight_layout()\n",
    "\n",
    "plots = [(0,1),(2,3),(0,2),(1,3)]\n",
    "colors = ['c', 'm', 'b']\n",
    "labels = ['Iris setosa', 'Iris virginica', 'Iris versicolor']\n",
    "\n",
    "for i, ax in enumerate(axes.flat):\n",
    "    for j in range(3):\n",
    "        x = df.columns[plots[i][0]]\n",
    "        y = df.columns[plots[i][1]]\n",
    "        ax.scatter(df[df['target']==j][x], df[df['target']==j][y], color=colors[j])\n",
    "        ax.set(xlabel=x, ylabel=y)\n",
    "\n",
    "fig.legend(labels=labels, loc=3, bbox_to_anchor=(1.0,0.85))\n",
    "plt.show()"
   ]
  },
  {
   "cell_type": "markdown",
   "metadata": {},
   "source": [
    "## Prepare the data\n",
    "\n",
    "* Use the features **speal length, sepal width, petal length, petal width** as input features to predict the output feature **target**\n",
    "\n",
    "* Split the data into Training set and testing set (80% for training, 20% for testing)\n",
    "\n",
    "* Convert the numpy arrays into Pytorch tensors"
   ]
  },
  {
   "cell_type": "code",
   "execution_count": 7,
   "metadata": {},
   "outputs": [],
   "source": [
    "data = df.drop(['target'], axis=1).values\n",
    "labels = df['target'].values"
   ]
  },
  {
   "cell_type": "code",
   "execution_count": 8,
   "metadata": {},
   "outputs": [],
   "source": [
    "X_train, X_test, y_train, y_test = train_test_split(data, labels, test_size=0.2, shuffle=True, random_state=51)"
   ]
  },
  {
   "cell_type": "code",
   "execution_count": 9,
   "metadata": {},
   "outputs": [],
   "source": [
    "X_train, X_test = torch.FloatTensor(X_train).cuda(), torch.FloatTensor(X_test).cuda()\n",
    "y_train, y_test = torch.LongTensor(y_train).cuda(), torch.LongTensor(y_test).cuda()"
   ]
  },
  {
   "cell_type": "markdown",
   "metadata": {},
   "source": [
    "## Build the ANN model\n",
    "\n",
    "* Subclass torch.nn 's Module.\n",
    "* Call the super class's initializer.\n",
    "* Create an input layer using **nn.Linear(in_features, hidden_units_1)** which implements a fully-connected / dense layer.\n",
    "* Create a hidden layer using **nn.Linear(hidden_units_1, hidden_units_2)** which implements another fully-connected / dense layer.\n",
    "* Create an output layer using **nn.Linear(hidden_units_2, out_features)** which implements fully-connected / dense layer as our output layer.\n",
    "* Create a method named forward which will perform single forward pass to predict **y_hat** value given an input X\n",
    "* Apply **Leaky ReLU actiavtion** function over input layer and hidden layer, return the value from output layer"
   ]
  },
  {
   "cell_type": "code",
   "execution_count": 10,
   "metadata": {},
   "outputs": [],
   "source": [
    "class ANN(nn.Module):\n",
    "    def __init__(self, in_feat=4, hidden_units_1=8, hidden_units_2=4, out_feat=3):\n",
    "        super().__init__()\n",
    "        self.input_layer = nn.Linear(in_feat, hidden_units_1)\n",
    "        self.hidden_layer = nn.Linear(hidden_units_1, hidden_units_2)\n",
    "        self.output_layer = nn.Linear(hidden_units_2, out_feat)\n",
    "    \n",
    "    def forward(self, X):\n",
    "        x = F.leaky_relu(self.input_layer(X), negative_slope=0.3)\n",
    "        x = F.leaky_relu(self.hidden_layer(x), negative_slope=0.3)\n",
    "        x = self.output_layer(x)\n",
    "        return x"
   ]
  },
  {
   "cell_type": "markdown",
   "metadata": {},
   "source": [
    "Instantiate our ANN model"
   ]
  },
  {
   "cell_type": "code",
   "execution_count": 11,
   "metadata": {},
   "outputs": [],
   "source": [
    "model = ANN().cuda()"
   ]
  },
  {
   "cell_type": "markdown",
   "metadata": {},
   "source": [
    "Set the following training configuration:\n",
    "\n",
    "* Use CrossEntropy loss as cost / loss fucntion\n",
    "* Use Adam optimizer with learning rate preferrably 0.01\n",
    "* Number of training iterations as epochs\n",
    "* Two empty lists to store our losses and validation losses for every single iteration, which we will use to visualize later"
   ]
  },
  {
   "cell_type": "code",
   "execution_count": 12,
   "metadata": {},
   "outputs": [],
   "source": [
    "criterion = nn.CrossEntropyLoss()\n",
    "optim = torch.optim.Adam(model.parameters(), lr=0.01)\n",
    "epochs = 300\n",
    "losses = []\n",
    "val_losses = []"
   ]
  },
  {
   "cell_type": "markdown",
   "metadata": {},
   "source": [
    "Train the model"
   ]
  },
  {
   "cell_type": "code",
   "execution_count": 13,
   "metadata": {},
   "outputs": [
    {
     "name": "stdout",
     "output_type": "stream",
     "text": [
      "Epoch 1\n",
      "Loss: 1.2757 | Validation Loss: 1.3332 \n",
      "Epoch 51\n",
      "Loss: 0.3692 | Validation Loss: 0.3241 \n",
      "Epoch 101\n",
      "Loss: 0.0679 | Validation Loss: 0.0876 \n",
      "Epoch 151\n",
      "Loss: 0.0511 | Validation Loss: 0.0689 \n",
      "Epoch 201\n",
      "Loss: 0.0465 | Validation Loss: 0.0676 \n",
      "Epoch 251\n",
      "Loss: 0.0437 | Validation Loss: 0.0689 \n",
      "Epoch 300\n",
      "Loss: 0.0415 | Validation Loss: 0.0713 \n"
     ]
    }
   ],
   "source": [
    "for e in range(epochs):\n",
    "    # perform one forward pass\n",
    "    y_hat = model.forward(X_train)\n",
    "    loss = criterion(y_hat, y_train)\n",
    "    losses.append(loss)\n",
    "    \n",
    "    with torch.no_grad():\n",
    "        y_valid = model.forward(X_test)\n",
    "        val_loss = criterion(y_valid, y_test)\n",
    "        val_losses.append(val_loss)\n",
    "        \n",
    "    # display training metrics\n",
    "    if (e % 50 == 0) or e==0 or e==(epochs-1):\n",
    "        print(\"Epoch {}\".format(e+1))\n",
    "        print(\"Loss: {:.4f} | Validation Loss: {:.4f} \".format(loss, val_loss))\n",
    "    \n",
    "    # back propagation\n",
    "    optim.zero_grad()\n",
    "    loss.backward()\n",
    "    optim.step()"
   ]
  },
  {
   "cell_type": "markdown",
   "metadata": {},
   "source": [
    "## Evaluation\n",
    "\n",
    "* Plot the loss and validation loss and check if they converge\n",
    "* Analyse for overfit/underfit"
   ]
  },
  {
   "cell_type": "code",
   "execution_count": 14,
   "metadata": {},
   "outputs": [
    {
     "data": {
      "image/png": "[encoded data removed]",
      "text/plain": [
       "<Figure size 432x288 with 1 Axes>"
      ]
     },
     "metadata": {
      "needs_background": "light"
     },
     "output_type": "display_data"
    }
   ],
   "source": [
    "plt.plot(range(epochs), losses, label='training loss')\n",
    "plt.plot(range(epochs), val_losses, label='validation loss')\n",
    "plt.title('Loss Metrics')\n",
    "plt.ylabel('Loss')\n",
    "plt.xlabel('Epochs')\n",
    "plt.legend()\n",
    "plt.show()"
   ]
  },
  {
   "cell_type": "code",
   "execution_count": 15,
   "metadata": {},
   "outputs": [],
   "source": [
    "num_correct = 0\n",
    "pred = []\n",
    "\n",
    "with torch.no_grad():\n",
    "    for index, data in enumerate(X_test):\n",
    "        y_hat = model.forward(data)\n",
    "        pred.append(y_hat)\n",
    "        if y_hat.argmax().item() == y_test[index]:\n",
    "            num_correct += 1            "
   ]
  },
  {
   "cell_type": "code",
   "execution_count": 16,
   "metadata": {},
   "outputs": [
    {
     "name": "stdout",
     "output_type": "stream",
     "text": [
      "Number of samples correctly classified: 29\n",
      "Number of samples wrongly classified: 1\n",
      "Test Accuracy: 96.6667\n"
     ]
    }
   ],
   "source": [
    "print(\"Number of samples correctly classified: {}\\nNumber of samples wrongly classified: {}\".format(num_correct, (len(y_test)-num_correct)))\n",
    "print(\"Test Accuracy: {:.4f}\".format((num_correct/len(y_test))*100))"
   ]
  },
  {
   "cell_type": "markdown",
   "metadata": {},
   "source": [
    "## Save the model"
   ]
  },
  {
   "cell_type": "code",
   "execution_count": 17,
   "metadata": {},
   "outputs": [],
   "source": [
    "torch.save(model.state_dict(), 'iris_ANN.pt')"
   ]
  }
 ],
 "metadata": {
  "kernelspec": {
   "display_name": "Python 3",
   "language": "python",
   "name": "python3"
  },
  "language_info": {
   "codemirror_mode": {
    "name": "ipython",
    "version": 3
   },
   "file_extension": ".py",
   "mimetype": "text/x-python",
   "name": "python",
   "nbconvert_exporter": "python",
   "pygments_lexer": "ipython3",
   "version": "3.7.4"
  }
 },
 "nbformat": 4,
 "nbformat_minor": 4
}