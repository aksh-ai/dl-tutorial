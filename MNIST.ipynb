{
 "cells": [
  {
   "cell_type": "code",
   "execution_count": 1,
   "metadata": {},
   "outputs": [],
   "source": [
    "import torch\n",
    "import torch.nn as nn\n",
    "import torch.nn.functional as F\n",
    "from torch.utils.data import DataLoader\n",
    "from torchvision import datasets, transforms\n",
    "import numpy as np\n",
    "import time\n",
    "import matplotlib.pyplot as plt\n",
    "from sklearn.metrics import confusion_matrix, classification_report"
   ]
  },
  {
   "cell_type": "code",
   "execution_count": 2,
   "metadata": {},
   "outputs": [],
   "source": [
    "transform = transforms.ToTensor()"
   ]
  },
  {
   "cell_type": "code",
   "execution_count": 3,
   "metadata": {},
   "outputs": [],
   "source": [
    "train = datasets.MNIST(root='../Course/Data', train=True, download=True, transform=transform)"
   ]
  },
  {
   "cell_type": "code",
   "execution_count": 4,
   "metadata": {},
   "outputs": [],
   "source": [
    "test = datasets.MNIST(root='../Course/Data', train=False, download=True, transform=transform)"
   ]
  },
  {
   "cell_type": "code",
   "execution_count": 5,
   "metadata": {
    "scrolled": true
   },
   "outputs": [
    {
     "data": {
      "text/plain": [
       "Dataset MNIST\n",
       "    Number of datapoints: 60000\n",
       "    Root location: ../Course/Data\n",
       "    Split: Train\n",
       "    StandardTransform\n",
       "Transform: ToTensor()"
      ]
     },
     "execution_count": 5,
     "metadata": {},
     "output_type": "execute_result"
    }
   ],
   "source": [
    "train"
   ]
  },
  {
   "cell_type": "code",
   "execution_count": 6,
   "metadata": {},
   "outputs": [
    {
     "data": {
      "text/plain": [
       "Dataset MNIST\n",
       "    Number of datapoints: 10000\n",
       "    Root location: ../Course/Data\n",
       "    Split: Test\n",
       "    StandardTransform\n",
       "Transform: ToTensor()"
      ]
     },
     "execution_count": 6,
     "metadata": {},
     "output_type": "execute_result"
    }
   ],
   "source": [
    "test"
   ]
  },
  {
   "cell_type": "code",
   "execution_count": 7,
   "metadata": {},
   "outputs": [],
   "source": [
    "image, label = train[0] "
   ]
  },
  {
   "cell_type": "code",
   "execution_count": 8,
   "metadata": {
    "scrolled": true
   },
   "outputs": [
    {
     "data": {
      "text/plain": [
       "<matplotlib.image.AxesImage at 0x21b8b873048>"
      ]
     },
     "execution_count": 8,
     "metadata": {},
     "output_type": "execute_result"
    },
    {
     "data": {
      "image/png": "[encoded data removed]",
      "text/plain": [
       "<Figure size 432x288 with 1 Axes>"
      ]
     },
     "metadata": {
      "needs_background": "light"
     },
     "output_type": "display_data"
    }
   ],
   "source": [
    "plt.imshow(image.reshape(28, 28), cmap='gist_yarg')"
   ]
  },
  {
   "cell_type": "code",
   "execution_count": 9,
   "metadata": {},
   "outputs": [
    {
     "data": {
      "text/plain": [
       "5"
      ]
     },
     "execution_count": 9,
     "metadata": {},
     "output_type": "execute_result"
    }
   ],
   "source": [
    "label"
   ]
  },
  {
   "cell_type": "code",
   "execution_count": 10,
   "metadata": {},
   "outputs": [],
   "source": [
    "train_loader = DataLoader(train, batch_size=100, shuffle=True)\n",
    "test_loader = DataLoader(test, batch_size=200, shuffle=False)"
   ]
  },
  {
   "cell_type": "code",
   "execution_count": 11,
   "metadata": {},
   "outputs": [],
   "source": [
    "class ANN(nn.Module):\n",
    "    def __init__(self, in_size=784, out_size=10, layers=[128, 64]):\n",
    "        super().__init__()\n",
    "        \n",
    "        self.fc1 = nn.Linear(in_size, layers[0])\n",
    "        self.fc2 = nn.Linear(layers[0], layers[1])\n",
    "        self.out = nn.Linear(layers[1], out_size)\n",
    "        \n",
    "    def forward(self, X):\n",
    "        x = F.leaky_relu(self.fc1(X), negative_slope=0.2)\n",
    "        x = F.leaky_relu(self.fc2(x), negative_slope=0.2)\n",
    "        x = self.out(x)\n",
    "        return F.log_softmax(x, dim=1)"
   ]
  },
  {
   "cell_type": "code",
   "execution_count": 12,
   "metadata": {},
   "outputs": [],
   "source": [
    "model = ANN().cuda()"
   ]
  },
  {
   "cell_type": "code",
   "execution_count": 13,
   "metadata": {},
   "outputs": [],
   "source": [
    "criterion = nn.CrossEntropyLoss()\n",
    "optim = torch.optim.Adam(model.parameters(), lr=0.001)\n",
    "epochs = 10\n",
    "losses = []\n",
    "val_losses = []\n",
    "correct = []\n",
    "val_correct = []"
   ]
  },
  {
   "cell_type": "code",
   "execution_count": 14,
   "metadata": {},
   "outputs": [
    {
     "name": "stdout",
     "output_type": "stream",
     "text": [
      "Epoch 1 Batch Number 200\n",
      "Accuracy: 83.6050  Loss: 0.3162\n",
      "Epoch 1 Batch Number 400\n",
      "Accuracy: 87.4775  Loss: 0.3028\n",
      "Epoch 1 Batch Number 600\n",
      "Accuracy: 89.1850  Loss: 0.1772\n",
      "Epoch 2 Batch Number 200\n",
      "Accuracy: 93.9750  Loss: 0.2862\n",
      "Epoch 2 Batch Number 400\n",
      "Accuracy: 94.2025  Loss: 0.2135\n",
      "Epoch 2 Batch Number 600\n",
      "Accuracy: 94.4150  Loss: 0.2608\n",
      "Epoch 3 Batch Number 200\n",
      "Accuracy: 95.7550  Loss: 0.0735\n",
      "Epoch 3 Batch Number 400\n",
      "Accuracy: 95.9625  Loss: 0.1657\n",
      "Epoch 3 Batch Number 600\n",
      "Accuracy: 96.0700  Loss: 0.1498\n",
      "Epoch 4 Batch Number 200\n",
      "Accuracy: 96.7900  Loss: 0.1122\n",
      "Epoch 4 Batch Number 400\n",
      "Accuracy: 96.8450  Loss: 0.0974\n",
      "Epoch 4 Batch Number 600\n",
      "Accuracy: 96.8883  Loss: 0.0321\n",
      "Epoch 5 Batch Number 200\n",
      "Accuracy: 97.4500  Loss: 0.0992\n",
      "Epoch 5 Batch Number 400\n",
      "Accuracy: 97.5550  Loss: 0.1229\n",
      "Epoch 5 Batch Number 600\n",
      "Accuracy: 97.5083  Loss: 0.0186\n",
      "Epoch 6 Batch Number 200\n",
      "Accuracy: 97.9250  Loss: 0.0445\n",
      "Epoch 6 Batch Number 400\n",
      "Accuracy: 97.9275  Loss: 0.1588\n",
      "Epoch 6 Batch Number 600\n",
      "Accuracy: 97.9033  Loss: 0.0410\n",
      "Epoch 7 Batch Number 200\n",
      "Accuracy: 98.4400  Loss: 0.0871\n",
      "Epoch 7 Batch Number 400\n",
      "Accuracy: 98.3625  Loss: 0.0527\n",
      "Epoch 7 Batch Number 600\n",
      "Accuracy: 98.2417  Loss: 0.0666\n",
      "Epoch 8 Batch Number 200\n",
      "Accuracy: 98.5000  Loss: 0.0309\n",
      "Epoch 8 Batch Number 400\n",
      "Accuracy: 98.4150  Loss: 0.0325\n",
      "Epoch 8 Batch Number 600\n",
      "Accuracy: 98.4700  Loss: 0.0129\n",
      "Epoch 9 Batch Number 200\n",
      "Accuracy: 98.8800  Loss: 0.0262\n",
      "Epoch 9 Batch Number 400\n",
      "Accuracy: 98.8175  Loss: 0.0365\n",
      "Epoch 9 Batch Number 600\n",
      "Accuracy: 98.7417  Loss: 0.0088\n",
      "Epoch 10 Batch Number 200\n",
      "Accuracy: 99.0750  Loss: 0.0092\n",
      "Epoch 10 Batch Number 400\n",
      "Accuracy: 99.0425  Loss: 0.0407\n",
      "Epoch 10 Batch Number 600\n",
      "Accuracy: 98.9483  Loss: 0.0509\n",
      "\n",
      "Training Duration 1.4495 minutes\n",
      "GPU memory used : 2732544 kb\n",
      "GPU memory cached : 4194304 kb\n"
     ]
    }
   ],
   "source": [
    "start_time = time.time()\n",
    "\n",
    "for e in range(epochs):\n",
    "    train_corr = 0\n",
    "    val_corr = 0\n",
    "    \n",
    "    for b, (X_train, y_train) in enumerate(train_loader):\n",
    "        b+=1\n",
    "        \n",
    "        X_train = X_train.cuda()\n",
    "        y_train = y_train.cuda()\n",
    "        \n",
    "        y_hat = model(X_train.view(100, -1))\n",
    "        loss = criterion(y_hat, y_train)\n",
    "        \n",
    "        pred = torch.max(y_hat.data, 1)[1]\n",
    "        batch_corr = (pred == y_train).sum()\n",
    "        train_corr += batch_corr\n",
    "        \n",
    "        # back propagation\n",
    "        optim.zero_grad()\n",
    "        loss.backward()\n",
    "        optim.step()\n",
    "        \n",
    "        # display training metrics\n",
    "        if b%200 == 0:\n",
    "            accuracy = train_corr.item()*100/(100*b)\n",
    "            print(\"Epoch {} Batch Number {}\".format(e+1, b))\n",
    "            print(\"Accuracy: {:.4f}  Loss: {:.4f}\".format(accuracy, loss))\n",
    "    \n",
    "    losses.append(loss)\n",
    "    correct.append(train_corr)\n",
    "    \n",
    "    with torch.no_grad():\n",
    "        for b, (X_test, y_test) in enumerate(test_loader):\n",
    "            X_test = X_test.cuda()\n",
    "            y_test = y_test.cuda()\n",
    "            \n",
    "            y_val = model(X_test.view(200, -1))\n",
    "            pred = torch.max(y_val, 1)[1]\n",
    "            val_corr += (pred == y_test).sum()\n",
    "    \n",
    "    val_loss = criterion(y_val, y_test)\n",
    "    val_losses.append(val_loss)\n",
    "    val_correct.append(val_corr)\n",
    "\n",
    "end_time = time.time() - start_time\n",
    "\n",
    "print(\"\\nTraining Duration {:.4f} minutes\".format(end_time/60))\n",
    "print(\"GPU memory used : {} kb\".format(torch.cuda.memory_allocated()))\n",
    "print(\"GPU memory cached : {} kb\".format(torch.cuda.memory_cached()))"
   ]
  },
  {
   "cell_type": "code",
   "execution_count": 15,
   "metadata": {
    "scrolled": true
   },
   "outputs": [
    {
     "data": {
      "image/png": "[encoded data removed]",
      "text/plain": [
       "<Figure size 432x288 with 1 Axes>"
      ]
     },
     "metadata": {
      "needs_background": "light"
     },
     "output_type": "display_data"
    }
   ],
   "source": [
    "plt.plot(range(epochs), losses, label='training loss')\n",
    "plt.plot(range(epochs), val_losses, label='validation loss')\n",
    "plt.title('Loss Metrics')\n",
    "plt.ylabel('Loss')\n",
    "plt.xlabel('Epochs')\n",
    "plt.legend()\n",
    "plt.show()"
   ]
  },
  {
   "cell_type": "code",
   "execution_count": 16,
   "metadata": {},
   "outputs": [],
   "source": [
    "acc = [train_corr/600 for train_corr in correct]\n",
    "val_acc = [test_corr/100 for test_corr in val_correct]"
   ]
  },
  {
   "cell_type": "code",
   "execution_count": 17,
   "metadata": {
    "scrolled": false
   },
   "outputs": [
    {
     "data": {
      "image/png": "[encoded data removed]",
      "text/plain": [
       "<Figure size 432x288 with 1 Axes>"
      ]
     },
     "metadata": {
      "needs_background": "light"
     },
     "output_type": "display_data"
    }
   ],
   "source": [
    "plt.plot(range(epochs), acc, label='training accuracy')\n",
    "plt.plot(range(epochs), val_acc, label='validation accuracy')\n",
    "plt.title('Accuracy Metrics')\n",
    "plt.ylabel('Accuracy')\n",
    "plt.xlabel('Epochs')\n",
    "plt.legend()\n",
    "plt.show()"
   ]
  },
  {
   "cell_type": "code",
   "execution_count": 61,
   "metadata": {},
   "outputs": [],
   "source": [
    "class CNN(nn.Module):\n",
    "    def __init__(self):\n",
    "        super().__init__()\n",
    "        self.conv1 = nn.Conv2d(1, 16, 3, 1)\n",
    "        self.conv2 = nn.Conv2d(16, 32, 3, 1)\n",
    "        self.fc1 = nn.Linear(5*5*32, 128)\n",
    "        self.fc2 = nn.Linear(128, 84)\n",
    "        self.fc3 = nn.Linear(84, 10)\n",
    "    \n",
    "    def forward(self, X):\n",
    "        X = F.leaky_relu(self.conv1(X), negative_slope=0.2)\n",
    "        X = F.max_pool2d(X, 2, 2)\n",
    "        X = F.leaky_relu(self.conv2(X), negative_slope=0.2)\n",
    "        X = F.max_pool2d(X, 2, 2)\n",
    "        X = X.view(-1, 32*5*5)\n",
    "        X = F.leaky_relu(self.fc1(X), negative_slope=0.2)\n",
    "        X = F.leaky_relu(self.fc2(X), negative_slope=0.2)\n",
    "        X = F.log_softmax(self.fc3(X), dim=1)\n",
    "        return X"
   ]
  },
  {
   "cell_type": "code",
   "execution_count": 62,
   "metadata": {},
   "outputs": [],
   "source": [
    "model = CNN().cuda()"
   ]
  },
  {
   "cell_type": "code",
   "execution_count": 63,
   "metadata": {},
   "outputs": [],
   "source": [
    "train_loader = DataLoader(train, batch_size=100, shuffle=True)\n",
    "test_loader = DataLoader(test, batch_size=200, shuffle=False)"
   ]
  },
  {
   "cell_type": "code",
   "execution_count": 64,
   "metadata": {},
   "outputs": [],
   "source": [
    "criterion = nn.CrossEntropyLoss()\n",
    "optim = torch.optim.Adam(model.parameters(), lr=0.001)\n",
    "epochs = 10\n",
    "losses = []\n",
    "val_losses = []\n",
    "correct = []\n",
    "val_correct = []"
   ]
  },
  {
   "cell_type": "code",
   "execution_count": 65,
   "metadata": {
    "scrolled": true
   },
   "outputs": [
    {
     "name": "stdout",
     "output_type": "stream",
     "text": [
      "Epoch 1\n",
      "Accuracy: 90.9067  Loss: 0.0624\n",
      "Epoch 2\n",
      "Accuracy: 97.7633  Loss: 0.0538\n",
      "Epoch 3\n",
      "Accuracy: 98.4633  Loss: 0.1032\n",
      "Epoch 4\n",
      "Accuracy: 98.7900  Loss: 0.0302\n",
      "Epoch 5\n",
      "Accuracy: 99.0467  Loss: 0.0078\n",
      "Epoch 6\n",
      "Accuracy: 99.1717  Loss: 0.0071\n",
      "Epoch 7\n",
      "Accuracy: 99.3350  Loss: 0.0277\n",
      "Epoch 8\n",
      "Accuracy: 99.4300  Loss: 0.0090\n",
      "Epoch 9\n",
      "Accuracy: 99.5500  Loss: 0.0046\n",
      "Epoch 10\n",
      "Accuracy: 99.5600  Loss: 0.0016\n",
      "\n",
      "Training Duration 1.8660 minutes\n",
      "GPU memory used : 21655040 kb\n",
      "GPU memory cached : 52428800 kb\n"
     ]
    }
   ],
   "source": [
    "start_time = time.time()\n",
    "\n",
    "for e in range(epochs):\n",
    "    train_corr = 0\n",
    "    val_corr = 0\n",
    "    \n",
    "    for b, (X_train, y_train) in enumerate(train_loader):\n",
    "        b+=1\n",
    "        \n",
    "        X_train = X_train.cuda()\n",
    "        y_train = y_train.cuda()\n",
    "        \n",
    "        y_hat = model(X_train)\n",
    "        loss = criterion(y_hat, y_train)\n",
    "        \n",
    "        pred = torch.max(y_hat.data, 1)[1]\n",
    "        batch_corr = (pred == y_train).sum()\n",
    "        train_corr += batch_corr\n",
    "        \n",
    "        # back propagation\n",
    "        optim.zero_grad()\n",
    "        loss.backward()\n",
    "        optim.step()\n",
    "        \n",
    "        # display training metrics\n",
    "        if b%600 == 0:\n",
    "            accuracy = train_corr.item()*100/(100*b)\n",
    "            print(\"Epoch {}\".format(e+1, b))\n",
    "            print(\"Accuracy: {:.4f}  Loss: {:.4f}\".format(accuracy, loss))\n",
    "    \n",
    "    losses.append(loss)\n",
    "    correct.append(train_corr)\n",
    "    \n",
    "    with torch.no_grad():\n",
    "        for b, (X_test, y_test) in enumerate(test_loader):\n",
    "            X_test = X_test.cuda()\n",
    "            y_test = y_test.cuda()\n",
    "            \n",
    "            y_val = model(X_test)\n",
    "            pred = torch.max(y_val, 1)[1]\n",
    "            val_corr += (pred == y_test).sum()\n",
    "    \n",
    "    val_loss = criterion(y_val, y_test)\n",
    "    val_losses.append(val_loss)\n",
    "    val_correct.append(val_corr)\n",
    "\n",
    "end_time = time.time() - start_time\n",
    "\n",
    "print(\"\\nTraining Duration {:.4f} minutes\".format(end_time/60))\n",
    "print(\"GPU memory used : {} kb\".format(torch.cuda.memory_allocated()))\n",
    "print(\"GPU memory cached : {} kb\".format(torch.cuda.memory_cached()))"
   ]
  },
  {
   "cell_type": "code",
   "execution_count": 66,
   "metadata": {
    "scrolled": true
   },
   "outputs": [
    {
     "data": {
      "image/png": "[encoded data removed]",
      "text/plain": [
       "<Figure size 432x288 with 1 Axes>"
      ]
     },
     "metadata": {
      "needs_background": "light"
     },
     "output_type": "display_data"
    }
   ],
   "source": [
    "plt.plot(range(epochs), losses, label='training loss')\n",
    "plt.plot(range(epochs), val_losses, label='validation loss')\n",
    "plt.title('Loss Metrics')\n",
    "plt.ylabel('Loss')\n",
    "plt.xlabel('Epochs')\n",
    "plt.legend()\n",
    "plt.show()"
   ]
  },
  {
   "cell_type": "code",
   "execution_count": 67,
   "metadata": {},
   "outputs": [],
   "source": [
    "acc = [train_corr/600 for train_corr in correct]\n",
    "val_acc = [test_corr/100 for test_corr in val_correct]"
   ]
  },
  {
   "cell_type": "code",
   "execution_count": 68,
   "metadata": {},
   "outputs": [
    {
     "data": {
      "image/png": "[encoded data removed]",
      "text/plain": [
       "<Figure size 432x288 with 1 Axes>"
      ]
     },
     "metadata": {
      "needs_background": "light"
     },
     "output_type": "display_data"
    }
   ],
   "source": [
    "plt.plot(range(epochs), acc, label='training accuracy')\n",
    "plt.plot(range(epochs), val_acc, label='validation accuracy')\n",
    "plt.title('Accuracy Metrics')\n",
    "plt.ylabel('Accuracy')\n",
    "plt.xlabel('Epochs')\n",
    "plt.legend()\n",
    "plt.show()"
   ]
  }
 ],
 "metadata": {
  "kernelspec": {
   "display_name": "Python 3",
   "language": "python",
   "name": "python3"
  },
  "language_info": {
   "codemirror_mode": {
    "name": "ipython",
    "version": 3
   },
   "file_extension": ".py",
   "mimetype": "text/x-python",
   "name": "python",
   "nbconvert_exporter": "python",
   "pygments_lexer": "ipython3",
   "version": "3.7.4"
  }
 },
 "nbformat": 4,
 "nbformat_minor": 4
}
